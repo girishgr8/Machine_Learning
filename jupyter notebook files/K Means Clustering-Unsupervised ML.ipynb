{
 "cells": [
  {
   "cell_type": "code",
   "execution_count": 1,
   "metadata": {},
   "outputs": [],
   "source": [
    "# Importing data anlaysis and visualizations libraries..\n",
    "import numpy as np\n",
    "import pandas as pd\n",
    "import seaborn as sns\n",
    "import matplotlib.pyplot as plt\n",
    "from sklearn.model_selection import train_test_split"
   ]
  },
  {
   "cell_type": "code",
   "execution_count": 2,
   "metadata": {},
   "outputs": [
    {
     "name": "stdout",
     "output_type": "stream",
     "text": [
      "<class 'pandas.core.frame.DataFrame'>\n",
      "RangeIndex: 261 entries, 0 to 260\n",
      "Data columns (total 8 columns):\n",
      "mpg             261 non-null float64\n",
      " cylinders      261 non-null int64\n",
      " cubicinches    261 non-null object\n",
      " hp             261 non-null int64\n",
      " weightlbs      261 non-null object\n",
      " time-to-60     261 non-null int64\n",
      " year           261 non-null int64\n",
      " brand          261 non-null object\n",
      "dtypes: float64(1), int64(4), object(3)\n",
      "memory usage: 16.4+ KB\n",
      "None\n"
     ]
    }
   ],
   "source": [
    "# Read dataset and get overall info..\n",
    "cars = pd.read_csv('cars.csv')\n",
    "print(cars.info())\n",
    "cars.head(40)\n",
    "cars.columns = cars.columns.str.strip()"
   ]
  },
  {
   "cell_type": "code",
   "execution_count": 3,
   "metadata": {},
   "outputs": [
    {
     "data": {
      "text/html": [
       "<div>\n",
       "<style scoped>\n",
       "    .dataframe tbody tr th:only-of-type {\n",
       "        vertical-align: middle;\n",
       "    }\n",
       "\n",
       "    .dataframe tbody tr th {\n",
       "        vertical-align: top;\n",
       "    }\n",
       "\n",
       "    .dataframe thead th {\n",
       "        text-align: right;\n",
       "    }\n",
       "</style>\n",
       "<table border=\"1\" class=\"dataframe\">\n",
       "  <thead>\n",
       "    <tr style=\"text-align: right;\">\n",
       "      <th></th>\n",
       "      <th>mpg</th>\n",
       "      <th>cylinders</th>\n",
       "      <th>hp</th>\n",
       "      <th>time-to-60</th>\n",
       "      <th>year</th>\n",
       "    </tr>\n",
       "  </thead>\n",
       "  <tbody>\n",
       "    <tr>\n",
       "      <th>count</th>\n",
       "      <td>261.000000</td>\n",
       "      <td>261.000000</td>\n",
       "      <td>261.000000</td>\n",
       "      <td>261.000000</td>\n",
       "      <td>261.000000</td>\n",
       "    </tr>\n",
       "    <tr>\n",
       "      <th>mean</th>\n",
       "      <td>23.144828</td>\n",
       "      <td>5.590038</td>\n",
       "      <td>106.360153</td>\n",
       "      <td>15.547893</td>\n",
       "      <td>1976.819923</td>\n",
       "    </tr>\n",
       "    <tr>\n",
       "      <th>std</th>\n",
       "      <td>7.823570</td>\n",
       "      <td>1.733310</td>\n",
       "      <td>40.499959</td>\n",
       "      <td>2.910625</td>\n",
       "      <td>3.637696</td>\n",
       "    </tr>\n",
       "    <tr>\n",
       "      <th>min</th>\n",
       "      <td>10.000000</td>\n",
       "      <td>3.000000</td>\n",
       "      <td>46.000000</td>\n",
       "      <td>8.000000</td>\n",
       "      <td>1971.000000</td>\n",
       "    </tr>\n",
       "    <tr>\n",
       "      <th>25%</th>\n",
       "      <td>16.900000</td>\n",
       "      <td>4.000000</td>\n",
       "      <td>75.000000</td>\n",
       "      <td>14.000000</td>\n",
       "      <td>1974.000000</td>\n",
       "    </tr>\n",
       "    <tr>\n",
       "      <th>50%</th>\n",
       "      <td>22.000000</td>\n",
       "      <td>6.000000</td>\n",
       "      <td>95.000000</td>\n",
       "      <td>16.000000</td>\n",
       "      <td>1977.000000</td>\n",
       "    </tr>\n",
       "    <tr>\n",
       "      <th>75%</th>\n",
       "      <td>28.800000</td>\n",
       "      <td>8.000000</td>\n",
       "      <td>138.000000</td>\n",
       "      <td>17.000000</td>\n",
       "      <td>1980.000000</td>\n",
       "    </tr>\n",
       "    <tr>\n",
       "      <th>max</th>\n",
       "      <td>46.600000</td>\n",
       "      <td>8.000000</td>\n",
       "      <td>230.000000</td>\n",
       "      <td>25.000000</td>\n",
       "      <td>1983.000000</td>\n",
       "    </tr>\n",
       "  </tbody>\n",
       "</table>\n",
       "</div>"
      ],
      "text/plain": [
       "              mpg   cylinders          hp  time-to-60         year\n",
       "count  261.000000  261.000000  261.000000  261.000000   261.000000\n",
       "mean    23.144828    5.590038  106.360153   15.547893  1976.819923\n",
       "std      7.823570    1.733310   40.499959    2.910625     3.637696\n",
       "min     10.000000    3.000000   46.000000    8.000000  1971.000000\n",
       "25%     16.900000    4.000000   75.000000   14.000000  1974.000000\n",
       "50%     22.000000    6.000000   95.000000   16.000000  1977.000000\n",
       "75%     28.800000    8.000000  138.000000   17.000000  1980.000000\n",
       "max     46.600000    8.000000  230.000000   25.000000  1983.000000"
      ]
     },
     "execution_count": 3,
     "metadata": {},
     "output_type": "execute_result"
    }
   ],
   "source": [
    "cars.describe()"
   ]
  },
  {
   "cell_type": "code",
   "execution_count": 4,
   "metadata": {},
   "outputs": [
    {
     "name": "stdout",
     "output_type": "stream",
     "text": [
      "<class 'pandas.core.frame.DataFrame'>\n",
      "RangeIndex: 261 entries, 0 to 260\n",
      "Data columns (total 7 columns):\n",
      "mpg            261 non-null float64\n",
      "cylinders      261 non-null int64\n",
      "cubicinches    261 non-null int64\n",
      "hp             261 non-null int64\n",
      "weightlbs      261 non-null int64\n",
      "time-to-60     261 non-null int64\n",
      "year           261 non-null int64\n",
      "dtypes: float64(1), int64(6)\n",
      "memory usage: 14.4 KB\n"
     ]
    },
    {
     "name": "stderr",
     "output_type": "stream",
     "text": [
      "C:\\Users\\DELL\\Anaconda3\\lib\\site-packages\\ipykernel_launcher.py:10: FutureWarning: convert_objects is deprecated.  To re-infer data dtypes for object columns, use DataFrame.infer_objects()\n",
      "For all other conversions use the data-type specific converters pd.to_datetime, pd.to_timedelta and pd.to_numeric.\n",
      "  # Remove the CWD from sys.path while we load stuff.\n"
     ]
    }
   ],
   "source": [
    "# Grabbing Dataframe with all columns except the target(i.e. brand column)\n",
    "# Alternate way:\n",
    "# df = cars.iloc[:,:-1].values\n",
    "df = cars.drop('brand',axis=1)\n",
    "#df = pd.DataFrame(df,columns=['mpg' , 'cylinders', 'cubicinches', 'hp' ,'weightlbs', 'time-to-60', 'year'])\n",
    "#df.info()\n",
    "# Replace Nan/null values with 0 or either with mean of its column...\n",
    "df['weightlbs']=df.weightlbs.apply(lambda x: x.replace(' ','0'))\n",
    "df['cubicinches'] = df.cubicinches.apply(lambda x: x.replace(' ','0'))\n",
    "df = df.convert_objects(convert_numeric=True)\n",
    "df.info()"
   ]
  },
  {
   "cell_type": "code",
   "execution_count": 5,
   "metadata": {},
   "outputs": [],
   "source": [
    "from sklearn.cluster import KMeans"
   ]
  },
  {
   "cell_type": "code",
   "execution_count": 6,
   "metadata": {},
   "outputs": [
    {
     "data": {
      "text/plain": [
       "Text(0, 0.5, 'Inertia value')"
      ]
     },
     "execution_count": 6,
     "metadata": {},
     "output_type": "execute_result"
    },
    {
     "data": {
      "image/png": "[encoded data removed]",
      "text/plain": [
       "<Figure size 720x432 with 1 Axes>"
      ]
     },
     "metadata": {
      "needs_background": "light"
     },
     "output_type": "display_data"
    }
   ],
   "source": [
    "# Using elbow method to determine the \n",
    "inertia=[]\n",
    "clusters = range(1,10)\n",
    "for i in clusters:\n",
    "    kmeans = KMeans(n_clusters=i,init='k-means++',n_init=9, random_state=101)\n",
    "    kmeans.fit(df)\n",
    "    inertia.append(kmeans.inertia_)\n",
    "#print(inertia)\n",
    "X = np.array(inertia)/pow(10,6)\n",
    "#print(X)\n",
    "# Plotting a graphfor getting the elbow point....\n",
    "plt.figure(figsize=(10,6))\n",
    "plt.plot(clusters,X)\n",
    "plt.title('Elbow method to determine the number of clusters')\n",
    "plt.xlabel('Number of clusters')\n",
    "plt.ylabel('Inertia value')"
   ]
  },
  {
   "cell_type": "code",
   "execution_count": 7,
   "metadata": {},
   "outputs": [
    {
     "name": "stdout",
     "output_type": "stream",
     "text": [
      "[1 2 0 1 2 1 1 1 0 2 2 2 1 1 2 1 2 0 2 2 2 0 0 1 2 2 2 1 1 2 2 0 0 2 2 0 2\n",
      " 0 1 0 1 1 1 0 0 0 1 2 2 0 1 0 1 2 1 1 0 2 2 1 0 2 0 2 1 0 2 2 2 1 0 0 2 0\n",
      " 2 0 0 0 2 2 1 1 0 0 2 2 0 0 2 0 2 2 1 0 2 1 1 0 1 1 1 1 2 2 2 0 2 2 0 0 2\n",
      " 0 1 2 2 1 0 0 2 1 2 2 1 0 2 0 1 2 0 2 2 0 1 1 1 1 2 0 0 0 0 2 0 2 1 0 0 0\n",
      " 1 0 0 0 1 0 2 0 2 2 0 0 0 1 0 0 2 0 0 0 0 2 2 0 2 0 2 2 1 1 1 2 0 2 1 0 2\n",
      " 0 0 1 1 1 0 0 1 1 1 2 2 2 2 2 2 0 0 1 2 1 2 0 1 0 0 0 2 2 0 0 2 1 0 1 0 0\n",
      " 1 1 1 2 1 2 0 0 1 0 0 1 0 2 1 0 2 2 1 0 1 0 1 0 1 2 2 0 2 0 0 1 0 2 1 2 0\n",
      " 0 0]\n"
     ]
    }
   ],
   "source": [
    "# Since, kmeans is unsupervised learning, we aren't provided with target values\n",
    "# But luckily our dataset contains target values so lets check how good our model is...\n",
    "kmeans = KMeans(n_clusters=3)\n",
    "pred = kmeans.fit_predict(df)\n",
    "print(pred)"
   ]
  },
  {
   "cell_type": "code",
   "execution_count": 8,
   "metadata": {},
   "outputs": [
    {
     "name": "stdout",
     "output_type": "stream",
     "text": [
      "[0, 1, 0, 0, 0, 0, 0, 0, 1, 2, 2, 1, 0, 0, 0, 0, 2, 0, 2, 1, 2, 1, 0, 0, 2, 2, 2, 0, 0, 0, 2, 0, 2, 0, 2, 0, 1, 2, 0, 0, 0, 0, 0, 0, 0, 2, 0, 0, 1, 0, 0, 1, 0, 1, 0, 0, 2, 0, 1, 0, 0, 2, 2, 2, 0, 0, 1, 2, 1, 0, 0, 0, 2, 2, 1, 0, 0, 2, 1, 2, 0, 0, 0, 1, 1, 2, 0, 0, 0, 0, 2, 2, 0, 0, 0, 0, 0, 0, 0, 0, 0, 0, 0, 0, 2, 0, 1, 1, 1, 0, 2, 1, 0, 2, 1, 0, 0, 0, 0, 0, 1, 1, 0, 0, 1, 0, 0, 0, 1, 0, 1, 0, 0, 0, 0, 0, 0, 0, 1, 1, 0, 2, 2, 2, 0, 1, 0, 0, 0, 0, 2, 2, 0, 0, 1, 0, 2, 2, 0, 1, 0, 0, 0, 0, 1, 0, 0, 0, 2, 0, 2, 1, 1, 0, 0, 1, 0, 0, 0, 2, 0, 2, 0, 0, 0, 0, 0, 0, 0, 0, 0, 0, 0, 0, 0, 1, 0, 1, 1, 2, 1, 0, 0, 0, 0, 0, 2, 0, 0, 2, 2, 0, 2, 1, 0, 2, 2, 0, 0, 0, 0, 1, 0, 1, 0, 2, 0, 2, 0, 0, 0, 0, 0, 0, 1, 1, 0, 0, 0, 0, 0, 0, 0, 1, 0, 0, 0, 1, 2, 0, 0, 1, 1, 0, 0, 2, 0, 2, 0, 0, 0]\n"
     ]
    }
   ],
   "source": [
    "cars['brand'] = cars.brand.apply(lambda x: x.replace('US.','0'))\n",
    "cars['brand'] = cars.brand.apply(lambda x: x.replace('Europe.','1'))\n",
    "cars['brand'] = cars.brand.apply(lambda x: x.replace('Japan.','2'))\n",
    "arr = list(cars['brand'])\n",
    "arr = list(map(int,arr))\n",
    "print(arr)\n",
    "#print(list(pred))"
   ]
  },
  {
   "cell_type": "code",
   "execution_count": 9,
   "metadata": {},
   "outputs": [
    {
     "name": "stdout",
     "output_type": "stream",
     "text": [
      "0.4061302681992337\n",
      "[[68 72 22]\n",
      " [17  1 30]\n",
      " [14  0 37]]\n"
     ]
    }
   ],
   "source": [
    "from sklearn.metrics import accuracy_score, classification_report, confusion_matrix\n",
    "print(accuracy_score(arr, pred))\n",
    "print(confusion_matrix(arr,pred))"
   ]
  },
  {
   "cell_type": "code",
   "execution_count": null,
   "metadata": {},
   "outputs": [],
   "source": []
  },
  {
   "cell_type": "code",
   "execution_count": null,
   "metadata": {},
   "outputs": [],
   "source": []
  }
 ],
 "metadata": {
  "kernelspec": {
   "display_name": "Python 3",
   "language": "python",
   "name": "python3"
  },
  "language_info": {
   "codemirror_mode": {
    "name": "ipython",
    "version": 3
   },
   "file_extension": ".py",
   "mimetype": "text/x-python",
   "name": "python",
   "nbconvert_exporter": "python",
   "pygments_lexer": "ipython3",
   "version": "3.7.1"
  }
 },
 "nbformat": 4,
 "nbformat_minor": 2
}
